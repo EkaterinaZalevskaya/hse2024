{
  "cells": [
    {
      "cell_type": "markdown",
      "metadata": {
        "colab_type": "text",
        "id": "view-in-github"
      },
      "source": [
        "<a href=\"https://colab.research.google.com/github/vifirsanova/hse-python-course/blob/main/workbook/6_scraping.ipynb\" target=\"_parent\"><img src=\"https://colab.research.google.com/assets/colab-badge.svg\" alt=\"Open In Colab\"/></a>"
      ]
    },
    {
      "cell_type": "markdown",
      "metadata": {
        "id": "vi_saniub3hP"
      },
      "source": [
        "**Задание 1**\n",
        "\n",
        "Написать функцию для скрейпинга веб-страниц"
      ]
    },
    {
      "cell_type": "code",
      "execution_count": 1,
      "metadata": {},
      "outputs": [
        {
          "name": "stdout",
          "output_type": "stream",
          "text": [
            "Collecting lxml\n",
            "  Downloading lxml-5.3.0-cp310-cp310-macosx_10_9_universal2.whl (8.1 MB)\n",
            "\u001b[2K     \u001b[90m━━━━━━━━━━━━━━━━━━━━━━━━━━━━━━━━━━━━━━━━\u001b[0m \u001b[32m8.1/8.1 MB\u001b[0m \u001b[31m21.2 MB/s\u001b[0m eta \u001b[36m0:00:00\u001b[0m00:01\u001b[0m00:01\u001b[0m\n",
            "\u001b[?25hInstalling collected packages: lxml\n",
            "Successfully installed lxml-5.3.0\n",
            "\n",
            "\u001b[1m[\u001b[0m\u001b[34;49mnotice\u001b[0m\u001b[1;39;49m]\u001b[0m\u001b[39;49m A new release of pip is available: \u001b[0m\u001b[31;49m23.0.1\u001b[0m\u001b[39;49m -> \u001b[0m\u001b[32;49m24.3.1\u001b[0m\n",
            "\u001b[1m[\u001b[0m\u001b[34;49mnotice\u001b[0m\u001b[1;39;49m]\u001b[0m\u001b[39;49m To update, run: \u001b[0m\u001b[32;49mpip3 install --upgrade pip\u001b[0m\n",
            "Requirement already satisfied: requests in /Library/Frameworks/Python.framework/Versions/3.10/lib/python3.10/site-packages (2.32.3)\n",
            "Requirement already satisfied: certifi>=2017.4.17 in /Library/Frameworks/Python.framework/Versions/3.10/lib/python3.10/site-packages (from requests) (2024.8.30)\n",
            "Requirement already satisfied: idna<4,>=2.5 in /Library/Frameworks/Python.framework/Versions/3.10/lib/python3.10/site-packages (from requests) (3.8)\n",
            "Requirement already satisfied: urllib3<3,>=1.21.1 in /Library/Frameworks/Python.framework/Versions/3.10/lib/python3.10/site-packages (from requests) (2.2.2)\n",
            "Requirement already satisfied: charset-normalizer<4,>=2 in /Library/Frameworks/Python.framework/Versions/3.10/lib/python3.10/site-packages (from requests) (3.3.2)\n",
            "\n",
            "\u001b[1m[\u001b[0m\u001b[34;49mnotice\u001b[0m\u001b[1;39;49m]\u001b[0m\u001b[39;49m A new release of pip is available: \u001b[0m\u001b[31;49m23.0.1\u001b[0m\u001b[39;49m -> \u001b[0m\u001b[32;49m24.3.1\u001b[0m\n",
            "\u001b[1m[\u001b[0m\u001b[34;49mnotice\u001b[0m\u001b[1;39;49m]\u001b[0m\u001b[39;49m To update, run: \u001b[0m\u001b[32;49mpip3 install --upgrade pip\u001b[0m\n",
            "Collecting beautifulsoup4\n",
            "  Downloading beautifulsoup4-4.12.3-py3-none-any.whl (147 kB)\n",
            "\u001b[2K     \u001b[90m━━━━━━━━━━━━━━━━━━━━━━━━━━━━━━━━━━━━━━━\u001b[0m \u001b[32m147.9/147.9 kB\u001b[0m \u001b[31m1.9 MB/s\u001b[0m eta \u001b[36m0:00:00\u001b[0ma \u001b[36m0:00:01\u001b[0m\n",
            "\u001b[?25hCollecting soupsieve>1.2\n",
            "  Downloading soupsieve-2.6-py3-none-any.whl (36 kB)\n",
            "Installing collected packages: soupsieve, beautifulsoup4\n",
            "Successfully installed beautifulsoup4-4.12.3 soupsieve-2.6\n",
            "\n",
            "\u001b[1m[\u001b[0m\u001b[34;49mnotice\u001b[0m\u001b[1;39;49m]\u001b[0m\u001b[39;49m A new release of pip is available: \u001b[0m\u001b[31;49m23.0.1\u001b[0m\u001b[39;49m -> \u001b[0m\u001b[32;49m24.3.1\u001b[0m\n",
            "\u001b[1m[\u001b[0m\u001b[34;49mnotice\u001b[0m\u001b[1;39;49m]\u001b[0m\u001b[39;49m To update, run: \u001b[0m\u001b[32;49mpip3 install --upgrade pip\u001b[0m\n"
          ]
        }
      ],
      "source": [
        "!pip install lxml\n",
        "!pip install requests\n",
        "!pip install beautifulsoup4"
      ]
    },
    {
      "cell_type": "code",
      "execution_count": 1,
      "metadata": {
        "id": "aWlZpSILeLJN"
      },
      "outputs": [],
      "source": [
        "'''\n",
        "Импортируйте библиотеки для скрейпинга веб-страниц\n",
        "'''\n",
        "\n",
        "import requests\n",
        "from bs4 import BeautifulSoup\n",
        "### ваш код здесь ###\n",
        "### ваш код здесь ###"
      ]
    },
    {
      "cell_type": "code",
      "execution_count": 7,
      "metadata": {
        "id": "AI-6i4LWeL82"
      },
      "outputs": [],
      "source": [
        "'''\n",
        "Допишите функцию для скрейпинга\n",
        "'''\n",
        "\n",
        "def scrape_text_from_url(url, tag, class_=None):\n",
        "    response = requests.get(url)### ваш код здесь: выполните HTML-запрос ###\n",
        "    ### ваш код здесь: если запрос успешный (возвращается значение 200) ###\n",
        "    if response.status_code == 200:\n",
        "      soup = BeautifulSoup(response.text, 'lxml') ### ваш код здесь: парсим контент или текст с помощью BeautifulSoup html.parser ###\n",
        "      paragraphs = soup.find_all(tag, class_) # ищем теги и классы на основании аргументов функции; по умолчанию ищем только тег\n",
        "      ### ваш код здесь: создаем переменную text строкового типа, куда мы запишем все найденные совпадения ###\n",
        "      text = ''\n",
        "      ### ваш код здесь: начинаем перебор элементов переменной paragraphs ###\n",
        "      for p in paragraphs:\n",
        "        text += p.get_text() # извлекаем текстовые данные\n",
        "      return text\n",
        "    ### ваш код здесь: иначе ###\n",
        "    else:\n",
        "      ### ваш код здесь: выводим статус-код и сообщение об ошибке ###\n",
        "      print(response.status_code, response.text)"
      ]
    },
    {
      "cell_type": "code",
      "execution_count": 6,
      "metadata": {
        "colab": {
          "base_uri": "https://localhost:8080/",
          "height": 122
        },
        "id": "TrKlqhx5fcGB",
        "outputId": "b87b512b-ae0f-4bcf-9145-fccb447d3537"
      },
      "outputs": [
        {
          "data": {
            "text/plain": [
              "'The Chomsky hierarchy in the fields of formal language theory, computer science, and linguistics, is a containment hierarchy of classes of formal grammars. A formal grammar describes how to form strings from a language\\'s vocabulary (or alphabet) that are valid according to the language\\'s syntax. The linguist Noam Chomsky theorized that four different classes of formal grammars existed that could generate increasingly complex languages. Each class can also completely generate the language of all inferior classes (set inclusive).\\nThe general idea of a hierarchy of grammars was first described by Noam Chomsky in \"Three models for the description of language\".[1] Marcel-Paul Schützenberger also played a role in the development of the theory of formal languages; the paper \"The algebraic theory of context free languages\"[2] describes the modern hierarchy, including context-free grammars.[3]\\nIndependently, alongside linguists, mathematicians were developing models of computation (via automata). Parsing a sentence in a language is similar to computation, and the grammars described by Chomsky proved to both resemble and be equivalent in computational power to various machine models.[4]\\nThe following table summarizes each of Chomsky\\'s four types of grammars, the class of language it generates, the type of automaton that recognizes it, and the form its rules must have. The classes are defined by the constraints on the productions rules.\\nNote that the set of grammars corresponding to recursive languages is not a member of this hierarchy; these would be properly between Type-0 and Type-1.\\nEvery regular language is context-free, every context-free language is context-sensitive, every context-sensitive language is recursive and every recursive language is recursively enumerable. These are all proper inclusions, meaning that there exist recursively enumerable languages that are not context-sensitive, context-sensitive languages that are not context-free and context-free languages that are not regular.[7]\\nType-3 grammars generate the regular languages. Such a grammar restricts its rules to a single nonterminal on the left-hand side and a right-hand side consisting of a single terminal, possibly followed by a single nonterminal, in which case the grammar is right regular. Alternatively, all the rules can have their right-hand sides consist of a single terminal, possibly preceded by a single nonterminal (left regular). These generate the same languages. However, if left-regular rules and right-regular rules are combined, the language need no longer be regular. The rule \\n\\n\\n\\nS\\n→\\nε\\n\\n\\n{\\\\displaystyle S\\\\rightarrow \\\\varepsilon }\\n\\n is also allowed here if \\n\\n\\n\\nS\\n\\n\\n{\\\\displaystyle S}\\n\\n does not appear on the right side of any rule. These languages are exactly all languages that can be decided by a finite-state automaton. Additionally, this family of formal languages can be obtained by regular expressions. Regular languages are commonly used to define search patterns and the lexical structure of programming languages.\\nFor example, the regular language \\n\\n\\n\\nL\\n=\\n{\\n\\na\\n\\nn\\n\\n\\n\\n|\\n\\nn\\n>\\n0\\n}\\n\\n\\n{\\\\displaystyle L=\\\\{a^{n}|n>0\\\\}}\\n\\n is generated by the Type-3 grammar \\n\\n\\n\\nG\\n=\\n(\\n{\\nS\\n}\\n,\\n{\\na\\n,\\nb\\n}\\n,\\nP\\n,\\nS\\n)\\n\\n\\n{\\\\displaystyle G=(\\\\{S\\\\},\\\\{a,b\\\\},P,S)}\\n\\n with the productions \\n\\n\\n\\nP\\n\\n\\n{\\\\displaystyle P}\\n\\n being the following.\\nType-2 grammars generate the context-free languages. These are defined by rules of the form \\n\\n\\n\\nA\\n→\\nα\\n\\n\\n{\\\\displaystyle A\\\\rightarrow \\\\alpha }\\n\\n with \\n\\n\\n\\nA\\n\\n\\n{\\\\displaystyle A}\\n\\n being a nonterminal and \\n\\n\\n\\nα\\n\\n\\n{\\\\displaystyle \\\\alpha }\\n\\n being a string of terminals and/or nonterminals. These languages are exactly all languages that can be recognized by a non-deterministic pushdown automaton. Context-free languages—or rather its subset of deterministic context-free languages—are the theoretical basis for the phrase structure of most programming languages, though their syntax also includes context-sensitive name resolution due to declarations and scope. Often a subset of grammars is used to make parsing easier, such as by an LL parser.\\nFor example, the context-free language  \\n\\n\\n\\nL\\n=\\n{\\n\\na\\n\\nn\\n\\n\\n\\nb\\n\\nn\\n\\n\\n\\n|\\n\\nn\\n>\\n0\\n}\\n\\n\\n{\\\\displaystyle L=\\\\{a^{n}b^{n}|n>0\\\\}}\\n\\n is generated by the Type-2 grammar \\n\\n\\n\\nG\\n=\\n(\\n{\\nS\\n}\\n,\\n{\\na\\n,\\nb\\n}\\n,\\nP\\n,\\nS\\n)\\n\\n\\n{\\\\displaystyle G=(\\\\{S\\\\},\\\\{a,b\\\\},P,S)}\\n\\n with the productions \\n\\n\\n\\nP\\n\\n\\n{\\\\displaystyle P}\\n\\n being the following.\\nThe language is context-free but not regular (by the pumping lemma for regular languages).\\nType-1 grammars generate context-sensitive languages. These grammars have rules of the form \\n\\n\\n\\nα\\nA\\nβ\\n→\\nα\\nγ\\nβ\\n\\n\\n{\\\\displaystyle \\\\alpha A\\\\beta \\\\rightarrow \\\\alpha \\\\gamma \\\\beta }\\n\\n with \\n\\n\\n\\nA\\n\\n\\n{\\\\displaystyle A}\\n\\n a nonterminal and \\n\\n\\n\\nα\\n\\n\\n{\\\\displaystyle \\\\alpha }\\n\\n, \\n\\n\\n\\nβ\\n\\n\\n{\\\\displaystyle \\\\beta }\\n\\n and \\n\\n\\n\\nγ\\n\\n\\n{\\\\displaystyle \\\\gamma }\\n\\n strings of terminals and/or nonterminals. The strings \\n\\n\\n\\nα\\n\\n\\n{\\\\displaystyle \\\\alpha }\\n\\n and \\n\\n\\n\\nβ\\n\\n\\n{\\\\displaystyle \\\\beta }\\n\\n may be empty, but \\n\\n\\n\\nγ\\n\\n\\n{\\\\displaystyle \\\\gamma }\\n\\n must be nonempty.  The rule \\n\\n\\n\\nS\\n→\\nϵ\\n\\n\\n{\\\\displaystyle S\\\\rightarrow \\\\epsilon }\\n\\n is allowed if \\n\\n\\n\\nS\\n\\n\\n{\\\\displaystyle S}\\n\\n does not appear on the right side of any rule.  The languages described by these grammars are exactly all languages that can be recognized by a linear bounded automaton (a nondeterministic Turing machine whose tape is bounded by a constant times the length of the input.)\\nFor example, the context-sensitive language  \\n\\n\\n\\nL\\n=\\n{\\n\\na\\n\\nn\\n\\n\\n\\nb\\n\\nn\\n\\n\\n\\nc\\n\\nn\\n\\n\\n\\n|\\n\\nn\\n>\\n0\\n}\\n\\n\\n{\\\\displaystyle L=\\\\{a^{n}b^{n}c^{n}|n>0\\\\}}\\n\\n is generated by the Type-1 grammar \\n\\n\\n\\nG\\n=\\n(\\n{\\nS\\n,\\nA\\n,\\nB\\n,\\nC\\n,\\nW\\n,\\nZ\\n}\\n,\\n{\\na\\n,\\nb\\n}\\n,\\nP\\n,\\nS\\n)\\n\\n\\n{\\\\displaystyle G=(\\\\{S,A,B,C,W,Z\\\\},\\\\{a,b\\\\},P,S)}\\n\\n with the productions \\n\\n\\n\\nP\\n\\n\\n{\\\\displaystyle P}\\n\\n being the following.\\nThe language is context-sensitive but not context-free (by the pumping lemma for context-free languages).\\nA proof that this grammar generates \\n\\n\\n\\nL\\n=\\n{\\n\\na\\n\\nn\\n\\n\\n\\nb\\n\\nn\\n\\n\\n\\nc\\n\\nn\\n\\n\\n\\n|\\n\\nn\\n>\\n0\\n}\\n\\n\\n{\\\\displaystyle L=\\\\{a^{n}b^{n}c^{n}|n>0\\\\}}\\n\\n is sketched in the article on Context-sensitive grammars.\\nType-0 grammars include all formal grammars. There are no constraints on the productions rules. They generate exactly all languages that can be recognized by a Turing machine, thus any language that is possible to be generated can be generated by a Type-0 grammar.[8] These languages are also known as the recursively enumerable or Turing-recognizable languages.[8] Note that this is different from the recursive languages, which can be decided by an always-halting Turing machine.\\n'"
            ]
          },
          "execution_count": 6,
          "metadata": {},
          "output_type": "execute_result"
        }
      ],
      "source": [
        "'''\n",
        "Проверяем функцию для скрейпинга: пример 1\n",
        "'''\n",
        "\n",
        "scrape_text_from_url('https://en.wikipedia.org/wiki/Chomsky_hierarchy', 'p')"
      ]
    },
    {
      "cell_type": "code",
      "execution_count": 8,
      "metadata": {
        "colab": {
          "base_uri": "https://localhost:8080/",
          "height": 122
        },
        "id": "tz6rp1Gsfi2K",
        "outputId": "935b978b-08de-45e4-bab6-115df5a1dfc4"
      },
      "outputs": [
        {
          "data": {
            "text/plain": [
              "\"Garland seems poised to be make political points, to show how our current political dysfunction could lead to something far worse… but he never follows through.This violent tale of anaesthetised reporters is just a war yarn with a twist.This easy digital fakeness is there to get the audience used to it...Rather than glorifying war, the film is artful and meditative, making us feel the pointlessness of this violence, how unglamorous and exhausting and unheroic it is.It’s not always subtle, and in some cases it’s even frustrating with some of its narrative decisions, but nothing can deny its uncanny ability to leave you horrified by how war, civil or otherwise, can be truly monstrous from any humanist angle.The film isn’t very deep, but it does paint the grimmest picture possible of a divided nation with bodies bodies bodies everywhere.With a career best performance from Kirsten Dunst and a pulsating sound design, Civil War is a thrilling body of work that should be talked about in journalism circles.Garland's decision to forego any narrative antecedent makes the predictable ending that much more of a bummer. Civil War is a more muscular film than Men. Like that movie, however, it mistakes broad brush strokes for insight.Audiences expecting a meticulously-crafted backstory for how this war started and who the players are will be sorely disappointed.This is another war-is-awful movie, tracing the experiences of a team of photojournalists who throw themselves into the firing line. And even without much of a point, it's rivetingly well-made.Garland uses violence as a means to a much larger end that should leave moviegoers disturbed and, at times, sickened; that should leave us challenged to think rather than feeling any kind of welcome catharsis. The final shot ... is stunning in its irony.The film seems caught between wanting to be exciting and devastating, as it threatens to turn its captivating story into another generic shoot-them-up war film, just on a grander scale.Civil War is not a polemic, but it is a mirror to the USA’s political crisis.If beauty is the sole standard for their work, then the film’s view of war photography is as an aesthetic death cult.Garland appears to make movies less for audiences than as think pieces, and, given the esteem in which his films are held, the ploy has paid off handsomely.An urgent film about a barely-distant future.There’s a cautionary message then in the madness: stop or perish; the choice is entirely ours.Civil War is a reflection of what you bring to it. That puts the impetus on the viewer to meet the film on its level. Some won’t like what they find. The nature of that discussion is what will ultimately make this film immortal.The political angle behind Civil War isn’t the less-than-United States’s warring factions, but rather the virtues and risks of war journalism within this domestic dystopian backdrop. More of a reflection on how we desensitize ourselves to violence and the slide into chaos that it helps to spark. More of a movie worth talking about.\""
            ]
          },
          "execution_count": 8,
          "metadata": {},
          "output_type": "execute_result"
        }
      ],
      "source": [
        "'''\n",
        "Проверяем функцию для скрейпинга: пример 2\n",
        "'''\n",
        "\n",
        "scrape_text_from_url('https://www.rottentomatoes.com/m/civil_war_2024/reviews', 'p', 'review-text')"
      ]
    },
    {
      "cell_type": "markdown",
      "metadata": {
        "id": "4yAvz7QEb8yh"
      },
      "source": [
        "**Задание 2**\n",
        "Написать функцию для сентимент-анализа"
      ]
    },
    {
      "cell_type": "code",
      "execution_count": 9,
      "metadata": {
        "colab": {
          "base_uri": "https://localhost:8080/"
        },
        "id": "AVqGhbkssw0m",
        "outputId": "f51868bd-c75a-4093-a0d6-4c282b13979a"
      },
      "outputs": [
        {
          "name": "stdout",
          "output_type": "stream",
          "text": [
            "--2024-11-10 02:27:47--  https://raw.githubusercontent.com/vifirsanova/hse-python-course/main/data/neg.txt\n",
            "Распознаётся raw.githubusercontent.com (raw.githubusercontent.com)… 185.199.111.133, 185.199.108.133, 185.199.110.133, ...\n",
            "Подключение к raw.githubusercontent.com (raw.githubusercontent.com)|185.199.111.133|:443... соединение установлено.\n",
            "HTTP-запрос отправлен. Ожидание ответа… 200 OK\n",
            "Длина: 44759 (44K) [text/plain]\n",
            "Сохранение в: «neg.txt»\n",
            "\n",
            "neg.txt             100%[===================>]  43,71K  --.-KB/s    за 0,02s   \n",
            "\n",
            "2024-11-10 02:27:48 (2,13 MB/s) - «neg.txt» сохранён [44759/44759]\n",
            "\n",
            "--2024-11-10 02:27:48--  https://raw.githubusercontent.com/vifirsanova/hse-python-course/main/data/pos.txt\n",
            "Распознаётся raw.githubusercontent.com (raw.githubusercontent.com)… 185.199.108.133, 185.199.110.133, 185.199.109.133, ...\n",
            "Подключение к raw.githubusercontent.com (raw.githubusercontent.com)|185.199.108.133|:443... соединение установлено.\n",
            "HTTP-запрос отправлен. Ожидание ответа… 200 OK\n",
            "Длина: 19093 (19K) [text/plain]\n",
            "Сохранение в: «pos.txt»\n",
            "\n",
            "pos.txt             100%[===================>]  18,65K  --.-KB/s    за 0,001s  \n",
            "\n",
            "2024-11-10 02:27:49 (15,3 MB/s) - «pos.txt» сохранён [19093/19093]\n",
            "\n"
          ]
        }
      ],
      "source": [
        "'''\n",
        "Загружаем списки слов с положительным и отрицательным значением\n",
        "'''\n",
        "\n",
        "!wget https://raw.githubusercontent.com/vifirsanova/hse-python-course/main/data/neg.txt\n",
        "!wget https://raw.githubusercontent.com/vifirsanova/hse-python-course/main/data/pos.txt\n",
        "\n",
        "with open('neg.txt') as f:\n",
        "  neg = f.read()\n",
        "\n",
        "with open('pos.txt') as f:\n",
        "  pos = f.read()"
      ]
    },
    {
      "cell_type": "code",
      "execution_count": 10,
      "metadata": {
        "colab": {
          "base_uri": "https://localhost:8080/"
        },
        "id": "vquXeXlDvG_Z",
        "outputId": "52da155e-5a9b-49ce-86fb-93dc19bdb76f"
      },
      "outputs": [
        {
          "data": {
            "text/plain": [
              "['a+',\n",
              " 'abound',\n",
              " 'abounds',\n",
              " 'abundance',\n",
              " 'abundant',\n",
              " 'accessable',\n",
              " 'accessible',\n",
              " 'acclaim',\n",
              " 'acclaimed',\n",
              " 'acclamation']"
            ]
          },
          "execution_count": 10,
          "metadata": {},
          "output_type": "execute_result"
        }
      ],
      "source": [
        "'''\n",
        "Создайте списки слов, разделив строку по знаку \\n\n",
        "'''\n",
        "\n",
        "pos_list, neg_list = pos.split('\\n'), neg.split('\\n')### ваш код здесь ###\n",
        "\n",
        "pos_list[:10]"
      ]
    },
    {
      "cell_type": "code",
      "execution_count": 11,
      "metadata": {
        "id": "oZ7AmEM1vlL4"
      },
      "outputs": [],
      "source": [
        "'''\n",
        "Допишите функцию для анализа тональности\n",
        "Функция принимает на вход 3 аргумента:\n",
        "  - переменную text с текстов для анализа\n",
        "  - 2 списка со словами для анализа тональности: positive_words и negative_words\n",
        "'''\n",
        "\n",
        "def analyze_sentiment(text: str, positive_words: list, negative_words: list): ### ваш код здесь ###\n",
        "    ### Ваш код здесь: приведите текст к нижнему регистру и поделите его на слова ###\n",
        "    words = text.lower().split()\n",
        "    ### По желанию: удалить стоп-слова и знаки препинания; использовать NLP-библиотеки для токенизации ###\n",
        "    ### Важно: запишите результат в переменную words ###\n",
        "\n",
        "    # Считаем скор тональности: количество пересечений между списками words и положительными / отрицательными словами\n",
        "    positive_count = sum(1 for word in words if word in positive_words)\n",
        "    negative_count = sum(1 for word in words if word in negative_words)\n",
        "\n",
        "    ### Ваш код здесь: если положительный скор больше отрицательного, возвращаем строчку 'positive' ###\n",
        "    if (positive_count > negative_count):\n",
        "      return 'positive'\n",
        "    ### Ваш код здесь: если отрицательный скор больше положительного, возвращаем строчку 'negative' ###\n",
        "    if (positive_count < negative_count):\n",
        "      return 'negative'\n",
        "    ### Иначе возвращаем строчку 'neutral' ###\n",
        "    else:\n",
        "      return 'neutral'"
      ]
    },
    {
      "cell_type": "code",
      "execution_count": 15,
      "metadata": {
        "colab": {
          "base_uri": "https://localhost:8080/",
          "height": 35
        },
        "id": "Y31yIOJ6xXS_",
        "outputId": "a4c40c25-962d-4155-a344-a7c9c45a702f"
      },
      "outputs": [
        {
          "data": {
            "text/plain": [
              "'neutral'"
            ]
          },
          "execution_count": 15,
          "metadata": {},
          "output_type": "execute_result"
        }
      ],
      "source": [
        "'''\n",
        "Проверяем функцию для анализа тональности: пример 1\n",
        "'''\n",
        "\n",
        "analyze_sentiment('This sample text is awesome!', pos_list, neg_list)"
      ]
    },
    {
      "cell_type": "code",
      "execution_count": 14,
      "metadata": {
        "colab": {
          "base_uri": "https://localhost:8080/",
          "height": 35
        },
        "id": "r1ubjl49x1qX",
        "outputId": "68fa11e1-7528-4c85-d86a-a4001dd3279b"
      },
      "outputs": [
        {
          "data": {
            "text/plain": [
              "'negative'"
            ]
          },
          "execution_count": 14,
          "metadata": {},
          "output_type": "execute_result"
        }
      ],
      "source": [
        "'''\n",
        "Проверяем функцию для анализа тональности: пример 2\n",
        "'''\n",
        "\n",
        "analyze_sentiment('I hate this sample text.', pos_list, neg_list)"
      ]
    },
    {
      "cell_type": "code",
      "execution_count": 13,
      "metadata": {
        "colab": {
          "base_uri": "https://localhost:8080/",
          "height": 35
        },
        "id": "lh7-EgSYx7vb",
        "outputId": "8790441f-14d6-46ef-abfb-c487d9150079"
      },
      "outputs": [
        {
          "data": {
            "text/plain": [
              "'neutral'"
            ]
          },
          "execution_count": 13,
          "metadata": {},
          "output_type": "execute_result"
        }
      ],
      "source": [
        "'''\n",
        "Проверяем функцию для анализа тональности: пример 3\n",
        "'''\n",
        "\n",
        "analyze_sentiment('We love and hate this sample text at the same time!', pos_list, neg_list)"
      ]
    },
    {
      "cell_type": "markdown",
      "metadata": {
        "id": "pQe6yWNicClB"
      },
      "source": [
        "**Задача 3**\n",
        "\n",
        "Написать функцию для вывода сентимент-скоров"
      ]
    },
    {
      "cell_type": "code",
      "execution_count": 18,
      "metadata": {
        "id": "2x1O80L70uDG"
      },
      "outputs": [],
      "source": [
        "'''\n",
        "Допишите функцию для вывода скоров по заданному URL\n",
        "'''\n",
        "\n",
        "def analyze(positive_words, negative_words, url, tag, class_=None):\n",
        "  scraped_text = scrape_text_from_url(url, tag, class_) ### ваш код здесь: примените функцию scrape_text_from_url ###\n",
        "  sentences = scraped_text.split('.')### ваш код здесь: сегментируйте текст по предложениям (через точку) ###\n",
        "  sentiments = [] ### ваш код здесь: создаем пустой список, куда запишем скоры ###\n",
        "  ### ваш код здесь: начинаем перебор по предложениям ###\n",
        "  for sentence in sentences:\n",
        "    ### ваш код здесь: получаем скор для данного предложения с помощью функции analyze_sentiment ###\n",
        "    score = analyze_sentiment(sentence, positive_words, negative_words)\n",
        "    ### ваш код здесь: добавляем скор в созданный список ###\n",
        "    sentiments.append(score)\n",
        "  ### ваш код здесь: возвращаем список скоров ###\n",
        "  return sentiments"
      ]
    },
    {
      "cell_type": "code",
      "execution_count": 19,
      "metadata": {
        "colab": {
          "base_uri": "https://localhost:8080/"
        },
        "id": "kc2UL_222Mle",
        "outputId": "7e2c02ae-3bb9-41b9-eaf3-371ed9167163"
      },
      "outputs": [
        {
          "data": {
            "text/plain": [
              "['neutral',\n",
              " 'negative',\n",
              " 'negative',\n",
              " 'negative',\n",
              " 'neutral',\n",
              " 'positive',\n",
              " 'negative',\n",
              " 'negative',\n",
              " 'negative',\n",
              " 'negative']"
            ]
          },
          "execution_count": 19,
          "metadata": {},
          "output_type": "execute_result"
        }
      ],
      "source": [
        "'''\n",
        "Тест 1\n",
        "'''\n",
        "\n",
        "analyze(url='https://en.wikipedia.org/wiki/Chomsky_hierarchy', tag='p', positive_words=pos, negative_words=neg)[:10]"
      ]
    },
    {
      "cell_type": "code",
      "execution_count": 20,
      "metadata": {
        "colab": {
          "base_uri": "https://localhost:8080/"
        },
        "id": "C9XzHV953Aux",
        "outputId": "e25d46a4-881a-467e-aef3-a56fddafafaa"
      },
      "outputs": [
        {
          "data": {
            "text/plain": [
              "['negative',\n",
              " 'negative',\n",
              " 'negative',\n",
              " 'neutral',\n",
              " 'neutral',\n",
              " 'negative',\n",
              " 'negative',\n",
              " 'positive',\n",
              " 'neutral',\n",
              " 'negative']"
            ]
          },
          "execution_count": 20,
          "metadata": {},
          "output_type": "execute_result"
        }
      ],
      "source": [
        "'''\n",
        "Тест 2\n",
        "'''\n",
        "\n",
        "analyze(url='https://www.rottentomatoes.com/m/civil_war_2024/reviews', tag='p', class_='review-text', positive_words=pos, negative_words=neg)[:10]"
      ]
    },
    {
      "cell_type": "markdown",
      "metadata": {
        "id": "-IkiyB5ldbt9"
      },
      "source": [
        "**Задача 4**\n",
        "\n",
        "Визуализировать результаты анализа"
      ]
    },
    {
      "cell_type": "code",
      "execution_count": 21,
      "metadata": {
        "colab": {
          "base_uri": "https://localhost:8080/"
        },
        "id": "zqEXVu-VZcUG",
        "outputId": "53a50ecb-bcc4-4d05-a866-2fe050fd1ef8"
      },
      "outputs": [
        {
          "data": {
            "text/plain": [
              "Counter({'negative': 32, 'neutral': 8, 'positive': 4})"
            ]
          },
          "execution_count": 21,
          "metadata": {},
          "output_type": "execute_result"
        }
      ],
      "source": [
        "'''\n",
        "Создаем частотный словарь с помощью библиотеки Counter.\n",
        "Можно выбрать другие веб-страницы для анализа!\n",
        "'''\n",
        "\n",
        "from collections import Counter\n",
        "\n",
        "sample1 = Counter(analyze(url='https://en.wikipedia.org/wiki/Chomsky_hierarchy', tag='p', positive_words=pos, negative_words=neg))\n",
        "sample2 = Counter(analyze(url='https://www.rottentomatoes.com/m/civil_war_2024/reviews', tag='p', class_='review-text', positive_words=pos, negative_words=neg))\n",
        "\n",
        "sample1"
      ]
    },
    {
      "cell_type": "code",
      "execution_count": 23,
      "metadata": {
        "colab": {
          "base_uri": "https://localhost:8080/",
          "height": 477
        },
        "id": "1BIF0uT84bKN",
        "outputId": "f1d26a9c-ae1a-4b4c-dbc2-de5065d70581"
      },
      "outputs": [
        {
          "data": {
            "image/png": "[encoded data removed]",
            "text/plain": [
              "<Figure size 640x480 with 2 Axes>"
            ]
          },
          "metadata": {},
          "output_type": "display_data"
        }
      ],
      "source": [
        "'''\n",
        "Создаем визуализацию: попробуйте использование новые данные (данные других url)\n",
        "'''\n",
        "\n",
        "import numpy as np\n",
        "import pandas as pd\n",
        "import matplotlib.pyplot as plt\n",
        "\n",
        "df1 = pd.DataFrame.from_dict(sample1, orient='index', columns=['Wikipedia'])\n",
        "df2 = pd.DataFrame.from_dict(sample2, orient='index', columns=['Rotten'])\n",
        "\n",
        "fig, ax = plt.subplots(ncols=2)\n",
        "\n",
        "ax[0] = df1.plot.bar(ax=ax[0])\n",
        "ax[1] = df2.plot.bar(ax=ax[1], color='orange')"
      ]
    },
    {
      "cell_type": "markdown",
      "metadata": {
        "id": "Y2SS-kAkcZcW"
      },
      "source": [
        "**Задача 5**\n",
        "\n",
        "Соберите все 3 функции в одной ячейке ниже. Проанализируйте получшившийся код. Сделайте ревью!\n",
        "\n",
        "Попробуйте сделать **рефакторинг**: найти повторы в коде, избыточные конструкции и заменить их на более простые и питоничные решения. Рефакторинг ускоряет выполнение кода и упрощает его чтение.\n",
        "\n",
        "Улучшите код, добавьте строчки для вывода промежуточных и итоговых результатов; запустите ячейку.\n",
        "\n",
        "Это творческое задание, правильных решений нет - главное, чтобы код работал! :)\n",
        "\n",
        "Не забудьте закомментировать свои изменения."
      ]
    },
    {
      "cell_type": "code",
      "execution_count": null,
      "metadata": {
        "id": "mU0kfLfvbq0-"
      },
      "outputs": [],
      "source": [
        "def scrape_text_from_url(url, tag, class_=None):\n",
        "    response = requests.get(url)\n",
        "    if response.status_code == 200:\n",
        "      soup = BeautifulSoup(response.text, 'lxml')\n",
        "      paragraphs = soup.find_all(tag, class_)\n",
        "      # перевод в текст в одну строку\n",
        "      return \"\".join([p.get_text() for p in paragraphs])\n",
        "    else:\n",
        "      print(response.status_code, response.text)\n",
        "\n",
        "def analyze_sentiment(text: str, positive_words: list, negative_words: list):\n",
        "    words = text.lower().split()\n",
        "    positive_count = sum(1 for word in words if word in positive_words)\n",
        "    negative_count = sum(1 for word in words if word in negative_words)\n",
        "\n",
        "    if (positive_count > negative_count):\n",
        "      return 'positive'\n",
        "    if (positive_count < negative_count):\n",
        "      return 'negative'\n",
        "    else:\n",
        "      return 'neutral'\n",
        "\n",
        "def analyze(positive_words, negative_words, url, tag, class_=None):\n",
        "  sentences = scrape_text_from_url(url, tag, class_).split('.')\n",
        "  # создание массива в одну строку\n",
        "  return [analyze_sentiment(sentence, positive_words, negative_words) for sentence in sentences]"
      ]
    }
  ],
  "metadata": {
    "colab": {
      "authorship_tag": "ABX9TyNH8luVmFaGY0pSzztFd+IL",
      "include_colab_link": true,
      "provenance": []
    },
    "kernelspec": {
      "display_name": "Python 3",
      "name": "python3"
    },
    "language_info": {
      "codemirror_mode": {
        "name": "ipython",
        "version": 3
      },
      "file_extension": ".py",
      "mimetype": "text/x-python",
      "name": "python",
      "nbconvert_exporter": "python",
      "pygments_lexer": "ipython3",
      "version": "3.10.11"
    }
  },
  "nbformat": 4,
  "nbformat_minor": 0
}
